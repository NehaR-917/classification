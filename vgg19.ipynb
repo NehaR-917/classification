{
 "cells": [
  {
   "cell_type": "code",
   "execution_count": 1,
   "id": "8e15dcc1",
   "metadata": {},
   "outputs": [],
   "source": [
    "import pandas as pd \n",
    "import numpy as np \n",
    "import os\n",
    "import cv2\n",
    "import matplotlib.pyplot as plt\n",
    "import warnings\n",
    "import tensorflow \n",
    "import scipy\n",
    "\n",
    "from tensorflow.keras.layers import Conv2D, MaxPool2D, Dense, Flatten, Dropout, BatchNormalization, Input, AveragePooling2D,Activation\n",
    "from tensorflow.keras.optimizers import Adam\n",
    "from tensorflow.keras.applications.vgg19 import VGG19\n",
    "from tensorflow.keras.applications.vgg19 import preprocess_input\n",
    "from tensorflow.keras.applications.resnet50 import ResNet50\n",
    "from tensorflow.keras.preprocessing import image, image_dataset_from_directory\n",
    "from tensorflow.keras.preprocessing.image import ImageDataGenerator\n",
    "from tensorflow.keras.models import Sequential,Model,load_model\n",
    "from tensorflow import keras\n",
    "import tensorflow as tf"
   ]
  },
  {
   "cell_type": "code",
   "execution_count": 2,
   "id": "58b7ecb6",
   "metadata": {},
   "outputs": [],
   "source": [
    "train_path = './dataset/train'"
   ]
  },
  {
   "cell_type": "code",
   "execution_count": 3,
   "id": "5082724b",
   "metadata": {},
   "outputs": [],
   "source": [
    "batch_size = 8\n",
    "img_height = 229\n",
    "img_width = 229"
   ]
  },
  {
   "cell_type": "code",
   "execution_count": 4,
   "id": "e3c00c49",
   "metadata": {},
   "outputs": [
    {
     "name": "stdout",
     "output_type": "stream",
     "text": [
      "Found 5121 files belonging to 4 classes.\n",
      "Using 4097 files for training.\n"
     ]
    }
   ],
   "source": [
    "train_ds = tf.keras.utils.image_dataset_from_directory(\n",
    "  train_path,\n",
    "  validation_split=0.2,\n",
    "  subset=\"training\",\n",
    "  seed=123,\n",
    "  label_mode='categorical',\n",
    "  image_size=(img_height, img_width),\n",
    "  batch_size=batch_size)"
   ]
  },
  {
   "cell_type": "code",
   "execution_count": 5,
   "id": "4e36c426",
   "metadata": {},
   "outputs": [
    {
     "name": "stdout",
     "output_type": "stream",
     "text": [
      "Found 5121 files belonging to 4 classes.\n",
      "Using 1024 files for validation.\n"
     ]
    }
   ],
   "source": [
    "val_ds = tf.keras.utils.image_dataset_from_directory(\n",
    "  train_path,\n",
    "  validation_split=0.2,\n",
    "  subset=\"validation\",\n",
    "  seed=123,\n",
    "  label_mode='categorical',\n",
    "  image_size=(img_height, img_width),\n",
    "  batch_size=batch_size)"
   ]
  },
  {
   "cell_type": "code",
   "execution_count": 6,
   "id": "7b4f727e",
   "metadata": {},
   "outputs": [
    {
     "name": "stdout",
     "output_type": "stream",
     "text": [
      "['MildDemented', 'ModerateDemented', 'NonDemented', 'VeryMildDemented']\n"
     ]
    }
   ],
   "source": [
    "class_names = train_ds.class_names\n",
    "print(class_names)"
   ]
  },
  {
   "cell_type": "code",
   "execution_count": 7,
   "id": "c2662999",
   "metadata": {},
   "outputs": [],
   "source": [
    "AUTOTUNE = tf.data.AUTOTUNE\n",
    "\n",
    "train_ds = train_ds.cache().shuffle(1000).prefetch(buffer_size=AUTOTUNE)\n",
    "val_ds = val_ds.cache().prefetch(buffer_size=AUTOTUNE)"
   ]
  },
  {
   "cell_type": "code",
   "execution_count": 8,
   "id": "35e81e5c",
   "metadata": {
    "scrolled": true
   },
   "outputs": [
    {
     "name": "stdout",
     "output_type": "stream",
     "text": [
      "Model: \"model\"\n",
      "_________________________________________________________________\n",
      " Layer (type)                Output Shape              Param #   \n",
      "=================================================================\n",
      " input_1 (InputLayer)        [(None, 229, 229, 3)]     0         \n",
      "                                                                 \n",
      " block1_conv1 (Conv2D)       (None, 229, 229, 64)      1792      \n",
      "                                                                 \n",
      " block1_conv2 (Conv2D)       (None, 229, 229, 64)      36928     \n",
      "                                                                 \n",
      " block1_pool (MaxPooling2D)  (None, 114, 114, 64)      0         \n",
      "                                                                 \n",
      " block2_conv1 (Conv2D)       (None, 114, 114, 128)     73856     \n",
      "                                                                 \n",
      " block2_conv2 (Conv2D)       (None, 114, 114, 128)     147584    \n",
      "                                                                 \n",
      " block2_pool (MaxPooling2D)  (None, 57, 57, 128)       0         \n",
      "                                                                 \n",
      " block3_conv1 (Conv2D)       (None, 57, 57, 256)       295168    \n",
      "                                                                 \n",
      " block3_conv2 (Conv2D)       (None, 57, 57, 256)       590080    \n",
      "                                                                 \n",
      " block3_conv3 (Conv2D)       (None, 57, 57, 256)       590080    \n",
      "                                                                 \n",
      " block3_conv4 (Conv2D)       (None, 57, 57, 256)       590080    \n",
      "                                                                 \n",
      " block3_pool (MaxPooling2D)  (None, 28, 28, 256)       0         \n",
      "                                                                 \n",
      " block4_conv1 (Conv2D)       (None, 28, 28, 512)       1180160   \n",
      "                                                                 \n",
      " block4_conv2 (Conv2D)       (None, 28, 28, 512)       2359808   \n",
      "                                                                 \n",
      " block4_conv3 (Conv2D)       (None, 28, 28, 512)       2359808   \n",
      "                                                                 \n",
      " block4_conv4 (Conv2D)       (None, 28, 28, 512)       2359808   \n",
      "                                                                 \n",
      " block4_pool (MaxPooling2D)  (None, 14, 14, 512)       0         \n",
      "                                                                 \n",
      " block5_conv1 (Conv2D)       (None, 14, 14, 512)       2359808   \n",
      "                                                                 \n",
      " block5_conv2 (Conv2D)       (None, 14, 14, 512)       2359808   \n",
      "                                                                 \n",
      " block5_conv3 (Conv2D)       (None, 14, 14, 512)       2359808   \n",
      "                                                                 \n",
      " block5_conv4 (Conv2D)       (None, 14, 14, 512)       2359808   \n",
      "                                                                 \n",
      " block5_pool (MaxPooling2D)  (None, 7, 7, 512)         0         \n",
      "                                                                 \n",
      " flatten (Flatten)           (None, 25088)             0         \n",
      "                                                                 \n",
      " dense (Dense)               (None, 4)                 100356    \n",
      "                                                                 \n",
      "=================================================================\n",
      "Total params: 20,124,740\n",
      "Trainable params: 100,356\n",
      "Non-trainable params: 20,024,384\n",
      "_________________________________________________________________\n"
     ]
    }
   ],
   "source": [
    "vgg = VGG19(input_shape=(img_height,img_width,3), weights='imagenet', include_top=False)\n",
    "for layer in vgg.layers:\n",
    "    layer.trainable = False\n",
    "x = Flatten()(vgg.output)\n",
    "\n",
    "prediction = Dense(4, activation='softmax')(x)\n",
    "\n",
    "modelvgg = Model(inputs=vgg.input, outputs=prediction)\n",
    "modelvgg.summary()"
   ]
  },
  {
   "cell_type": "code",
   "execution_count": 9,
   "id": "3ac394bc",
   "metadata": {},
   "outputs": [],
   "source": [
    "modelvgg.compile(optimizer='adam',\n",
    "loss='categorical_crossentropy',\n",
    "metrics=['acc'])"
   ]
  },
  {
   "cell_type": "code",
   "execution_count": 10,
   "id": "08943e9e",
   "metadata": {
    "scrolled": true
   },
   "outputs": [
    {
     "name": "stdout",
     "output_type": "stream",
     "text": [
      "Epoch 1/15\n",
      "513/513 [==============================] - 184s 321ms/step - loss: 8.6320 - acc: 0.6161 - val_loss: 8.5006 - val_acc: 0.6494\n",
      "Epoch 2/15\n",
      "513/513 [==============================] - 158s 308ms/step - loss: 3.4812 - acc: 0.8103 - val_loss: 5.8641 - val_acc: 0.7100\n",
      "Epoch 3/15\n",
      "513/513 [==============================] - 163s 318ms/step - loss: 2.3602 - acc: 0.8719 - val_loss: 4.5643 - val_acc: 0.7539\n",
      "Epoch 4/15\n",
      "513/513 [==============================] - 164s 321ms/step - loss: 1.5600 - acc: 0.8985 - val_loss: 4.4621 - val_acc: 0.8076\n",
      "Epoch 5/15\n",
      "513/513 [==============================] - 168s 327ms/step - loss: 2.5459 - acc: 0.8848 - val_loss: 17.5781 - val_acc: 0.6484\n",
      "Epoch 6/15\n",
      "513/513 [==============================] - 165s 322ms/step - loss: 3.3226 - acc: 0.8760 - val_loss: 4.1020 - val_acc: 0.8496\n",
      "Epoch 7/15\n",
      "513/513 [==============================] - 170s 331ms/step - loss: 1.4792 - acc: 0.9295 - val_loss: 4.8433 - val_acc: 0.8438\n",
      "Epoch 8/15\n",
      "513/513 [==============================] - 171s 334ms/step - loss: 0.6920 - acc: 0.9629 - val_loss: 3.6011 - val_acc: 0.8652\n",
      "Epoch 9/15\n",
      "513/513 [==============================] - 169s 331ms/step - loss: 1.5906 - acc: 0.9307 - val_loss: 3.4892 - val_acc: 0.8789\n",
      "Epoch 10/15\n",
      "513/513 [==============================] - 168s 328ms/step - loss: 1.2334 - acc: 0.9478 - val_loss: 4.0829 - val_acc: 0.8730\n",
      "Epoch 11/15\n",
      "513/513 [==============================] - 168s 327ms/step - loss: 1.3289 - acc: 0.9480 - val_loss: 8.7996 - val_acc: 0.7930\n",
      "Epoch 12/15\n",
      "513/513 [==============================] - 169s 330ms/step - loss: 1.0321 - acc: 0.9541 - val_loss: 4.4551 - val_acc: 0.8604\n",
      "Epoch 13/15\n",
      "513/513 [==============================] - 166s 324ms/step - loss: 1.0019 - acc: 0.9561 - val_loss: 5.3957 - val_acc: 0.8545\n",
      "Epoch 14/15\n",
      "513/513 [==============================] - 168s 328ms/step - loss: 0.7699 - acc: 0.9651 - val_loss: 5.5884 - val_acc: 0.8574\n",
      "Epoch 15/15\n",
      "513/513 [==============================] - 167s 326ms/step - loss: 0.9570 - acc: 0.9578 - val_loss: 5.0469 - val_acc: 0.8887\n"
     ]
    },
    {
     "data": {
      "text/plain": [
       "<keras.callbacks.History at 0x207e5d7cbb0>"
      ]
     },
     "execution_count": 10,
     "metadata": {},
     "output_type": "execute_result"
    }
   ],
   "source": [
    "modelvgg.fit(train_ds, epochs=15, validation_data=val_ds)"
   ]
  },
  {
   "cell_type": "code",
   "execution_count": 11,
   "id": "3418ef6c",
   "metadata": {
    "scrolled": false
   },
   "outputs": [
    {
     "name": "stdout",
     "output_type": "stream",
     "text": [
      "128/128 [==============================] - 30s 236ms/step - loss: 5.0469 - acc: 0.8887\n",
      "Accuracy:  0.888671875\n"
     ]
    }
   ],
   "source": [
    "loss, accuracy = modelvgg.evaluate(val_ds)\n",
    "print(\"Accuracy: \", accuracy)"
   ]
  },
  {
   "cell_type": "code",
   "execution_count": null,
   "id": "56766540",
   "metadata": {},
   "outputs": [],
   "source": []
  }
 ],
 "metadata": {
  "kernelspec": {
   "display_name": "Python 3.10 (tensorflow)",
   "language": "python",
   "name": "tensorflow"
  },
  "language_info": {
   "codemirror_mode": {
    "name": "ipython",
    "version": 3
   },
   "file_extension": ".py",
   "mimetype": "text/x-python",
   "name": "python",
   "nbconvert_exporter": "python",
   "pygments_lexer": "ipython3",
   "version": "3.10.11"
  }
 },
 "nbformat": 4,
 "nbformat_minor": 5
}
